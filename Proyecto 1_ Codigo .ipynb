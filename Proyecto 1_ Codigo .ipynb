{
 "cells": [
  {
   "cell_type": "code",
   "execution_count": 1,
   "metadata": {},
   "outputs": [
    {
     "data": {
      "text/plain": [
       "     fun: -71720.0\n",
       " message: 'Optimization terminated successfully.'\n",
       "     nit: 8\n",
       "   slack: array([50000.,     0.,     0.,     0.,     0.,     0.,     0.,     0.,\n",
       "           0.])\n",
       "  status: 0\n",
       " success: True\n",
       "       x: array([200000., 200000.,      0., 200000., 200000., 200000.])"
      ]
     },
     "execution_count": 1,
     "metadata": {},
     "output_type": "execute_result"
    }
   ],
   "source": [
    "#PROYECTO\n",
    "import numpy as np\n",
    "import scipy.optimize as opt\n",
    "#Cambio de signo para maximizar, cuando se tiene mayor o igual que\n",
    "c=np.array([-.0966,-.0683,-.0541,-.0351,-.0761,-0.0825])\n",
    "A=np.array([[0,-1,-1,-1,0,0],[1,1,1,0,0,1],[1,1,1,1,1,1]])\n",
    "b=np.array([-350000,600000,1000000])\n",
    "\n",
    "#Ae=np.array([[1,1,1,1,1,1]])\n",
    "#be=np.array([1000000])\n",
    "\n",
    "limite=(0,1000000/5)\n",
    "\n",
    "res=opt.linprog(c,A,b,bounds=limite)\n",
    "\n",
    "res"
   ]
  }
 ],
 "metadata": {
  "kernelspec": {
   "display_name": "Python 3",
   "language": "python",
   "name": "python3"
  },
  "language_info": {
   "codemirror_mode": {
    "name": "ipython",
    "version": 3
   },
   "file_extension": ".py",
   "mimetype": "text/x-python",
   "name": "python",
   "nbconvert_exporter": "python",
   "pygments_lexer": "ipython3",
   "version": "3.7.1"
  }
 },
 "nbformat": 4,
 "nbformat_minor": 2
}
