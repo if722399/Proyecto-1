{
 "cells": [
  {
   "cell_type": "markdown",
   "metadata": {},
   "source": [
    "# Optimización de rendimientos en fondos de inversiones\n"
   ]
  },
  {
   "cell_type": "markdown",
   "metadata": {},
   "source": [
    "# 1. Objetivos"
   ]
  },
  {
   "cell_type": "markdown",
   "metadata": {},
   "source": [
    "### 1.1 Objetivo General\n",
    "\n",
    "El objetivo general del proyecto es generar la mejor estrategia de inversión \n",
    "\n",
    "\n",
    "\n",
    "### 1.2 Objetivos específicos\n",
    "1.2.1 Invertir en 6 diferentes fondos bancarios\n",
    "\n",
    "1.2.2 Maximizar la tasa de retorno de la inversión\n",
    "\n",
    "1.2.3 Cumplir al pie de la letra las restricciones de nuestro cliente "
   ]
  },
  {
   "cell_type": "markdown",
   "metadata": {},
   "source": [
    "# 2. RESOLUCIÓN DEL PROBLEMA"
   ]
  },
  {
   "cell_type": "markdown",
   "metadata": {},
   "source": [
    "## 2.1 Modelo\n",
    "\n",
    " Nuestra función a optimizar serán las tasas de rendimiento al momento, de los bancos y CETES.\n",
    " .0966X1-.0683X2-.0541X3-.0351X4-.0761X5-.0825X6\n",
    "  \n",
    " Las restricciones dadas por nuestro cliente son:\n",
    " \n",
    " \n",
    " x1+x2+x3+x4+x5+x6 =$ 1,000,000$\n",
    " \n",
    " \n",
    " $200,000$ ≤ xn\n",
    " \n",
    " \n",
    "$350,000$ ≥ x2+x3+x4\n",
    " \n",
    " \n",
    "$600,000$ ≥ x1+x2+x3+x6\n",
    " \n",
    " \n",
    "## 2.2 Solución\n",
    "\n",
    "La ganancia máxima obtenida es de $71,720$ Invirtiendo en:\n",
    "\n",
    "BBVA=$200,000$\n",
    "\n",
    "\n",
    "HSBC=$200,000$\n",
    "\n",
    "\n",
    "BANORTE=$0$\n",
    "\n",
    "\n",
    "BANBAJIO=$200,000$\n",
    "\n",
    "\n",
    "CETES (a un año)=$200,000$\n",
    "\n",
    "\n",
    "BANREGIO= $200,000$\n",
    "\n",
    "\n",
    "\n",
    "\n",
    "\n",
    "## 2.3 Visualización\n",
    "|BBVA|HSBC|BANORTE|BANBAJIO|CETES|BANREGIO|\n",
    "|---|----|----|----|----|----|\n",
    "|200,000|200,000|0|200,000|200,000|200,000|\n",
    "\n",
    "\n"
   ]
  },
  {
   "cell_type": "markdown",
   "metadata": {},
   "source": [
    "# 3. Conclusiones\n",
    "\n",
    "Podemos concluir que la mejor estrategia de inversión dadas las tasas de rendimiento de cada instrumento financiero y dadas las restricciones que nuestro cliente nos da a conocer, es invertir el 20% de nuestro monto inicial en BBVA, 20% EN HSBC, 0% EN BANORTE, 20% en BANBAJIO, 20% en CETES y nuestro último 20% en BANREGIO.\n"
   ]
  },
  {
   "cell_type": "markdown",
   "metadata": {},
   "source": [
    "# 4. Referencias\n",
    "\n",
    "BBVA. (2019). Fondos de inversión . 01/10/2019, de BBVA Sitio web: • https://www.bbva.mx/personas/productos/inversion/fondos-de-inversion.html\n",
    "HSBC. (2019). Fondo de inversión. 01/10/2019, de HSBC Sitio web: https://www.hsbc.com.mx/inversiones-fondos/fondos-de-inversion/\n",
    "BANORTE. (2019). Fondo de inversión. 01/10/2019, de BANORTE Sitio web: https://www.circulopymebanorte.com/\n",
    "BANBAJIO. (2019). Fondos de inversión. 01/10/2019, de BANBAJIO Sitio web: https://www.bb.com.mx/webcenter/portal/BanBajio/negocios/n-inversiones/n-fondos-de-inversion?_afrLoop=46661560185701799&_afrWindowMode=0&Adf-Window-Id=w159dkdilrk&_afrFS=16&_afrMT=screen&_afrMFW=1920&_afrMFH=966&_afrMFDW=1920&_afrMFDH=1080&_afrMFC=8&_afrMFCI=0&_afrMFM=0&_afrMFR=96&_afrMFG=0&_afrMFS=0&_afrMFO=0\n",
    "SHCP. (2019). CETESdirecto. 01/10/2019, de SHCP Sitio web: http://www.cetesdirecto.com/sites/portal/inicio\n",
    "BANREGIO. (2019). Fondos de inversión. 01/10/2019, de BANREGIO Sitio web: https://www.banregio.com/inversiones_fondos.php"
   ]
  },
  {
   "cell_type": "code",
   "execution_count": null,
   "metadata": {},
   "outputs": [],
   "source": []
  }
 ],
 "metadata": {
  "kernelspec": {
   "display_name": "Python 3",
   "language": "python",
   "name": "python3"
  },
  "language_info": {
   "codemirror_mode": {
    "name": "ipython",
    "version": 3
   },
   "file_extension": ".py",
   "mimetype": "text/x-python",
   "name": "python",
   "nbconvert_exporter": "python",
   "pygments_lexer": "ipython3",
   "version": "3.7.1"
  }
 },
 "nbformat": 4,
 "nbformat_minor": 2
}
